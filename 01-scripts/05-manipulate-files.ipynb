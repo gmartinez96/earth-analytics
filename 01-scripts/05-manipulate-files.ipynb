{
 "cells": [
  {
   "cell_type": "code",
   "execution_count": 6,
   "metadata": {},
   "outputs": [],
   "source": [
    "# Import Necessary packages\n",
    "import earthpy as et\n",
    "from glob import glob\n",
    "import os"
   ]
  },
  {
   "cell_type": "markdown",
   "metadata": {},
   "source": [
    "### Download Files Using EarthPy"
   ]
  },
  {
   "cell_type": "code",
   "execution_count": 3,
   "metadata": {},
   "outputs": [
    {
     "name": "stdout",
     "output_type": "stream",
     "text": [
      "Downloading from https://ndownloader.figshare.com/files/21894528\n",
      "Extracted output to C:\\Users\\Gabriel\\earth-analytics\\data\\earthpy-downloads\\avg-monthly-temp-fahr\n"
     ]
    },
    {
     "data": {
      "text/plain": [
       "'C:\\\\Users\\\\Gabriel\\\\earth-analytics\\\\data\\\\earthpy-downloads\\\\avg-monthly-temp-fahr'"
      ]
     },
     "execution_count": 3,
     "metadata": {},
     "output_type": "execute_result"
    }
   ],
   "source": [
    "# Download data on average monthly temp for two California sites\n",
    "file_url = \"https://ndownloader.figshare.com/files/21894528\"\n",
    "et.data.get_data(url=file_url)"
   ]
  },
  {
   "cell_type": "code",
   "execution_count": 10,
   "metadata": {},
   "outputs": [],
   "source": [
    "# Set working directory to earth-analytics\n",
    "os.chdir(os.path.join(et.io.HOME, \"earth-analytics\"))\n",
    "\n",
    "# Create a path to the data folder\n",
    "data_folder = os.path.join(\"data\", \"earthpy-downloads\", \"avg-monthly-temp-fahr\")"
   ]
  },
  {
   "cell_type": "markdown",
   "metadata": {},
   "source": [
    "### Glob in Python\n",
    "- **os** helps manage and create specific pahts \n",
    "- **glob** is a powerful Python library that helps managing and filtering through large datasets and pull out only what is of interest\n",
    "- glob() function uses rules of Unix shell to help users organize their files.\n",
    "#### **Search for a specific folder or file**"
   ]
  },
  {
   "cell_type": "code",
   "execution_count": 11,
   "metadata": {},
   "outputs": [
    {
     "data": {
      "text/plain": [
       "['data\\\\earthpy-downloads\\\\avg-monthly-temp-fahr']"
      ]
     },
     "execution_count": 11,
     "metadata": {},
     "output_type": "execute_result"
    }
   ],
   "source": [
    "# Creates a list of all files in a folder\n",
    "file_list = glob(data_folder)\n",
    "file_list"
   ]
  },
  {
   "cell_type": "code",
   "execution_count": 12,
   "metadata": {},
   "outputs": [
    {
     "data": {
      "text/plain": [
       "list"
      ]
     },
     "execution_count": 12,
     "metadata": {},
     "output_type": "execute_result"
    }
   ],
   "source": [
    "type(file_list)"
   ]
  },
  {
   "cell_type": "markdown",
   "metadata": {},
   "source": [
    "#### **Use glob() combined with os.path.join() to create lists of paths**"
   ]
  },
  {
   "cell_type": "code",
   "execution_count": 14,
   "metadata": {},
   "outputs": [
    {
     "data": {
      "text/plain": [
       "['data\\\\earthpy-downloads\\\\avg-monthly-temp-fahr\\\\San-Diego\\\\San-Diego-1999-temp.csv']"
      ]
     },
     "execution_count": 14,
     "metadata": {},
     "output_type": "execute_result"
    }
   ],
   "source": [
    "# Create a list of containing a specific file name\n",
    "glob(os.path.join(data_folder, \"San-Diego\", \"San-Diego-1999-temp.csv\"))"
   ]
  },
  {
   "cell_type": "markdown",
   "metadata": {},
   "source": [
    "#### * Operator\n",
    "* The * is a wildcard to search for items that have differences in their names\n",
    "* Example: You want eeryfile in a directory to be returned to you, you can put a * at the end of a directory path"
   ]
  },
  {
   "cell_type": "code",
   "execution_count": 16,
   "metadata": {},
   "outputs": [
    {
     "data": {
      "text/plain": [
       "['data\\\\earthpy-downloads\\\\avg-monthly-temp-fahr\\\\San-Diego',\n",
       " 'data\\\\earthpy-downloads\\\\avg-monthly-temp-fahr\\\\Sonoma']"
      ]
     },
     "execution_count": 16,
     "metadata": {},
     "output_type": "execute_result"
    }
   ],
   "source": [
    "# Get the list of all files/dirs in data folder\n",
    "glob(os.path.join(data_folder, \"*\"))"
   ]
  },
  {
   "cell_type": "code",
   "execution_count": 18,
   "metadata": {},
   "outputs": [
    {
     "data": {
      "text/plain": [
       "['data\\\\earthpy-downloads\\\\avg-monthly-temp-fahr\\\\San-Diego\\\\San-Diego-1999-temp.csv',\n",
       " 'data\\\\earthpy-downloads\\\\avg-monthly-temp-fahr\\\\San-Diego\\\\San-Diego-2000-temp.csv',\n",
       " 'data\\\\earthpy-downloads\\\\avg-monthly-temp-fahr\\\\San-Diego\\\\San-Diego-2001-temp.csv',\n",
       " 'data\\\\earthpy-downloads\\\\avg-monthly-temp-fahr\\\\San-Diego\\\\San-Diego-2002-temp.csv',\n",
       " 'data\\\\earthpy-downloads\\\\avg-monthly-temp-fahr\\\\San-Diego\\\\San-Diego-2003-temp.csv']"
      ]
     },
     "execution_count": 18,
     "metadata": {},
     "output_type": "execute_result"
    }
   ],
   "source": [
    "# Get list of all files/dirs in San-Diego folder\n",
    "glob(os.path.join(data_folder, \"San-Diego\", \"*\"))"
   ]
  },
  {
   "cell_type": "code",
   "execution_count": 19,
   "metadata": {},
   "outputs": [
    {
     "data": {
      "text/plain": [
       "['data\\\\earthpy-downloads\\\\avg-monthly-temp-fahr\\\\San-Diego\\\\San-Diego-1999-temp.csv',\n",
       " 'data\\\\earthpy-downloads\\\\avg-monthly-temp-fahr\\\\San-Diego\\\\San-Diego-2000-temp.csv',\n",
       " 'data\\\\earthpy-downloads\\\\avg-monthly-temp-fahr\\\\San-Diego\\\\San-Diego-2001-temp.csv',\n",
       " 'data\\\\earthpy-downloads\\\\avg-monthly-temp-fahr\\\\San-Diego\\\\San-Diego-2002-temp.csv',\n",
       " 'data\\\\earthpy-downloads\\\\avg-monthly-temp-fahr\\\\San-Diego\\\\San-Diego-2003-temp.csv']"
      ]
     },
     "execution_count": 19,
     "metadata": {},
     "output_type": "execute_result"
    }
   ],
   "source": [
    "# Get only csv files\n",
    "glob(os.path.join(data_folder, \"San-Diego\", \"*csv\"))"
   ]
  },
  {
   "cell_type": "code",
   "execution_count": 20,
   "metadata": {},
   "outputs": [
    {
     "data": {
      "text/plain": [
       "['data\\\\earthpy-downloads\\\\avg-monthly-temp-fahr\\\\San-Diego\\\\San-Diego-2000-temp.csv',\n",
       " 'data\\\\earthpy-downloads\\\\avg-monthly-temp-fahr\\\\San-Diego\\\\San-Diego-2001-temp.csv',\n",
       " 'data\\\\earthpy-downloads\\\\avg-monthly-temp-fahr\\\\San-Diego\\\\San-Diego-2002-temp.csv',\n",
       " 'data\\\\earthpy-downloads\\\\avg-monthly-temp-fahr\\\\San-Diego\\\\San-Diego-2003-temp.csv']"
      ]
     },
     "execution_count": 20,
     "metadata": {},
     "output_type": "execute_result"
    }
   ],
   "source": [
    "# Get only csv files with number 2 somewhere in the file name\n",
    "glob(os.path.join(data_folder, \"San-Diego\", \"*2*.csv\"))"
   ]
  },
  {
   "cell_type": "code",
   "execution_count": 21,
   "metadata": {},
   "outputs": [
    {
     "data": {
      "text/plain": [
       "['data\\\\earthpy-downloads\\\\avg-monthly-temp-fahr\\\\San-Diego\\\\San-Diego-1999-temp.csv',\n",
       " 'data\\\\earthpy-downloads\\\\avg-monthly-temp-fahr\\\\San-Diego\\\\San-Diego-2001-temp.csv']"
      ]
     },
     "execution_count": 21,
     "metadata": {},
     "output_type": "execute_result"
    }
   ],
   "source": [
    "# Get only csv files with number 1 in the file name\n",
    "glob(os.path.join(data_folder, \"San-Diego\", \"*1*.csv\"))"
   ]
  },
  {
   "cell_type": "markdown",
   "metadata": {},
   "source": [
    "Note that 2*.csv would only return files that start with the number 2"
   ]
  },
  {
   "cell_type": "code",
   "execution_count": 22,
   "metadata": {},
   "outputs": [
    {
     "data": {
      "text/plain": [
       "[]"
      ]
     },
     "execution_count": 22,
     "metadata": {},
     "output_type": "execute_result"
    }
   ],
   "source": [
    "# Create an empty list (no file names begin with 2)\n",
    "glob(os.path.join(data_folder, \"San-Diego\", \"2*.csv\"))"
   ]
  },
  {
   "cell_type": "markdown",
   "metadata": {},
   "source": [
    "### **Recursive Searches**\n",
    "* Search on files across multiple directories\n",
    "- Use multiple * in a file path to indicate you want every file in all folders in a directory\n",
    "- The first * acess all directories in the starting directory\n",
    "- The second loops through all subdirs to make a list of all their contents"
   ]
  },
  {
   "cell_type": "code",
   "execution_count": 23,
   "metadata": {},
   "outputs": [
    {
     "data": {
      "text/plain": [
       "['data\\\\earthpy-downloads\\\\avg-monthly-temp-fahr\\\\San-Diego\\\\San-Diego-1999-temp.csv',\n",
       " 'data\\\\earthpy-downloads\\\\avg-monthly-temp-fahr\\\\San-Diego\\\\San-Diego-2000-temp.csv',\n",
       " 'data\\\\earthpy-downloads\\\\avg-monthly-temp-fahr\\\\San-Diego\\\\San-Diego-2001-temp.csv',\n",
       " 'data\\\\earthpy-downloads\\\\avg-monthly-temp-fahr\\\\San-Diego\\\\San-Diego-2002-temp.csv',\n",
       " 'data\\\\earthpy-downloads\\\\avg-monthly-temp-fahr\\\\San-Diego\\\\San-Diego-2003-temp.csv',\n",
       " 'data\\\\earthpy-downloads\\\\avg-monthly-temp-fahr\\\\Sonoma\\\\Sonoma-1999-temp.csv',\n",
       " 'data\\\\earthpy-downloads\\\\avg-monthly-temp-fahr\\\\Sonoma\\\\Sonoma-2000-temp.csv',\n",
       " 'data\\\\earthpy-downloads\\\\avg-monthly-temp-fahr\\\\Sonoma\\\\Sonoma-2001-temp.csv',\n",
       " 'data\\\\earthpy-downloads\\\\avg-monthly-temp-fahr\\\\Sonoma\\\\Sonoma-2002-temp.csv',\n",
       " 'data\\\\earthpy-downloads\\\\avg-monthly-temp-fahr\\\\Sonoma\\\\Sonoma-2003-temp.csv']"
      ]
     },
     "execution_count": 23,
     "metadata": {},
     "output_type": "execute_result"
    }
   ],
   "source": [
    "# Search recursevily though both site folders\n",
    "glob(os.path.join(data_folder, \"*\", \"*\"))"
   ]
  },
  {
   "cell_type": "markdown",
   "metadata": {},
   "source": [
    "### **Sorting glob Lists**\n",
    "- The lists that are provided with glob() are not sorted\n"
   ]
  },
  {
   "cell_type": "code",
   "execution_count": 26,
   "metadata": {},
   "outputs": [
    {
     "data": {
      "text/plain": [
       "['data\\\\earthpy-downloads\\\\avg-monthly-temp-fahr\\\\Sonoma\\\\Sonoma-1999-temp.csv',\n",
       " 'data\\\\earthpy-downloads\\\\avg-monthly-temp-fahr\\\\Sonoma\\\\Sonoma-2000-temp.csv',\n",
       " 'data\\\\earthpy-downloads\\\\avg-monthly-temp-fahr\\\\Sonoma\\\\Sonoma-2001-temp.csv',\n",
       " 'data\\\\earthpy-downloads\\\\avg-monthly-temp-fahr\\\\Sonoma\\\\Sonoma-2002-temp.csv',\n",
       " 'data\\\\earthpy-downloads\\\\avg-monthly-temp-fahr\\\\Sonoma\\\\Sonoma-2003-temp.csv']"
      ]
     },
     "execution_count": 26,
     "metadata": {},
     "output_type": "execute_result"
    }
   ],
   "source": [
    "# Get the list of CSVs in Sonoma directory\n",
    "sonoma_files = glob(os.path.join(data_folder, \"Sonoma\", \"*.csv\"))\n",
    "sonoma_files"
   ]
  },
  {
   "cell_type": "markdown",
   "metadata": {},
   "source": [
    "- If it's important for a list to have a certain order, sort the list returned by glob() with .sort() method for lists"
   ]
  },
  {
   "cell_type": "code",
   "execution_count": 28,
   "metadata": {},
   "outputs": [
    {
     "data": {
      "text/plain": [
       "['data\\\\earthpy-downloads\\\\avg-monthly-temp-fahr\\\\Sonoma\\\\Sonoma-1999-temp.csv',\n",
       " 'data\\\\earthpy-downloads\\\\avg-monthly-temp-fahr\\\\Sonoma\\\\Sonoma-2000-temp.csv',\n",
       " 'data\\\\earthpy-downloads\\\\avg-monthly-temp-fahr\\\\Sonoma\\\\Sonoma-2001-temp.csv',\n",
       " 'data\\\\earthpy-downloads\\\\avg-monthly-temp-fahr\\\\Sonoma\\\\Sonoma-2002-temp.csv',\n",
       " 'data\\\\earthpy-downloads\\\\avg-monthly-temp-fahr\\\\Sonoma\\\\Sonoma-2003-temp.csv']"
      ]
     },
     "execution_count": 28,
     "metadata": {},
     "output_type": "execute_result"
    }
   ],
   "source": [
    "# Sort Glob List\n",
    "sonoma_files.sort()\n",
    "sonoma_files"
   ]
  },
  {
   "cell_type": "code",
   "execution_count": 30,
   "metadata": {},
   "outputs": [
    {
     "data": {
      "text/plain": [
       "['data\\\\earthpy-downloads\\\\avg-monthly-temp-fahr\\\\Sonoma\\\\Sonoma-1999-temp.csv',\n",
       " 'data\\\\earthpy-downloads\\\\avg-monthly-temp-fahr\\\\Sonoma\\\\Sonoma-2000-temp.csv',\n",
       " 'data\\\\earthpy-downloads\\\\avg-monthly-temp-fahr\\\\Sonoma\\\\Sonoma-2001-temp.csv',\n",
       " 'data\\\\earthpy-downloads\\\\avg-monthly-temp-fahr\\\\Sonoma\\\\Sonoma-2002-temp.csv',\n",
       " 'data\\\\earthpy-downloads\\\\avg-monthly-temp-fahr\\\\Sonoma\\\\Sonoma-2003-temp.csv']"
      ]
     },
     "execution_count": 30,
     "metadata": {},
     "output_type": "execute_result"
    }
   ],
   "source": [
    "# Another option for sorting Lists\n",
    "sonoma_files = sorted(glob(os.path.join(data_folder, \"Sonoma\", \"*.csv\")))\n",
    "sonoma_files"
   ]
  },
  {
   "cell_type": "code",
   "execution_count": 32,
   "metadata": {},
   "outputs": [
    {
     "data": {
      "text/plain": [
       "['data\\\\earthpy-downloads\\\\avg-monthly-temp-fahr\\\\San-Diego\\\\San-Diego-1999-temp.csv',\n",
       " 'data\\\\earthpy-downloads\\\\avg-monthly-temp-fahr\\\\San-Diego\\\\San-Diego-2000-temp.csv',\n",
       " 'data\\\\earthpy-downloads\\\\avg-monthly-temp-fahr\\\\San-Diego\\\\San-Diego-2001-temp.csv',\n",
       " 'data\\\\earthpy-downloads\\\\avg-monthly-temp-fahr\\\\San-Diego\\\\San-Diego-2002-temp.csv',\n",
       " 'data\\\\earthpy-downloads\\\\avg-monthly-temp-fahr\\\\San-Diego\\\\San-Diego-2003-temp.csv']"
      ]
     },
     "execution_count": 32,
     "metadata": {},
     "output_type": "execute_result"
    }
   ],
   "source": [
    "# Practicing\n",
    "san_diego_files = sorted(glob(os.path.join(data_folder, \"San-Diego\", \"*.csv\")))\n",
    "san_diego_files"
   ]
  },
  {
   "cell_type": "markdown",
   "metadata": {},
   "source": [
    "### Why Sort glob Lists? "
   ]
  },
  {
   "cell_type": "code",
   "execution_count": 36,
   "metadata": {},
   "outputs": [
    {
     "name": "stdout",
     "output_type": "stream",
     "text": [
      "data\\earthpy-downloads\\avg-monthly-temp-fahr\\Sonoma\\Sonoma-2003-temp.csv\n"
     ]
    }
   ],
   "source": [
    "unsorted_sonoma = glob(os.path.join(data_folder, \"Sonoma\", \"*\"))\n",
    "print(unsorted_sonoma[4])"
   ]
  },
  {
   "cell_type": "code",
   "execution_count": 37,
   "metadata": {},
   "outputs": [
    {
     "name": "stdout",
     "output_type": "stream",
     "text": [
      "data\\earthpy-downloads\\avg-monthly-temp-fahr\\Sonoma\\Sonoma-2003-temp.csv\n"
     ]
    }
   ],
   "source": [
    "sorted_sonoma = sorted(glob(os.path.join(data_folder, \"Sonoma\", \"*\")))\n",
    "print(sorted_sonoma[4])"
   ]
  },
  {
   "cell_type": "markdown",
   "metadata": {},
   "source": [
    "### Using Ranges\n",
    "- [ ] to specify a range of characters to search for\n",
    "- To search for all files with 2001 to 2003 in the name use *200[1-3]*"
   ]
  },
  {
   "cell_type": "code",
   "execution_count": 38,
   "metadata": {},
   "outputs": [
    {
     "data": {
      "text/plain": [
       "['data\\\\earthpy-downloads\\\\avg-monthly-temp-fahr\\\\San-Diego\\\\San-Diego-2001-temp.csv',\n",
       " 'data\\\\earthpy-downloads\\\\avg-monthly-temp-fahr\\\\San-Diego\\\\San-Diego-2002-temp.csv',\n",
       " 'data\\\\earthpy-downloads\\\\avg-monthly-temp-fahr\\\\San-Diego\\\\San-Diego-2003-temp.csv',\n",
       " 'data\\\\earthpy-downloads\\\\avg-monthly-temp-fahr\\\\Sonoma\\\\Sonoma-2001-temp.csv',\n",
       " 'data\\\\earthpy-downloads\\\\avg-monthly-temp-fahr\\\\Sonoma\\\\Sonoma-2002-temp.csv',\n",
       " 'data\\\\earthpy-downloads\\\\avg-monthly-temp-fahr\\\\Sonoma\\\\Sonoma-2003-temp.csv']"
      ]
     },
     "execution_count": 38,
     "metadata": {},
     "output_type": "execute_result"
    }
   ],
   "source": [
    "# Get files from 2001 to 2003\n",
    "glob(os.path.join(data_folder, \"*\", \"*200[1-3]*\"))"
   ]
  },
  {
   "cell_type": "markdown",
   "metadata": {},
   "source": [
    "- It can also be used with letters [d - q] for example\n",
    "- You can use it with [2 - 7 ] but not [2 - 14] because it's more than one character"
   ]
  },
  {
   "cell_type": "code",
   "execution_count": 40,
   "metadata": {},
   "outputs": [
    {
     "data": {
      "text/plain": [
       "['data\\\\earthpy-downloads\\\\avg-monthly-temp-fahr\\\\San-Diego\\\\San-Diego-1999-temp.csv',\n",
       " 'data\\\\earthpy-downloads\\\\avg-monthly-temp-fahr\\\\San-Diego\\\\San-Diego-2000-temp.csv',\n",
       " 'data\\\\earthpy-downloads\\\\avg-monthly-temp-fahr\\\\San-Diego\\\\San-Diego-2001-temp.csv',\n",
       " 'data\\\\earthpy-downloads\\\\avg-monthly-temp-fahr\\\\San-Diego\\\\San-Diego-2002-temp.csv',\n",
       " 'data\\\\earthpy-downloads\\\\avg-monthly-temp-fahr\\\\San-Diego\\\\San-Diego-2003-temp.csv',\n",
       " 'data\\\\earthpy-downloads\\\\avg-monthly-temp-fahr\\\\Sonoma\\\\Sonoma-1999-temp.csv',\n",
       " 'data\\\\earthpy-downloads\\\\avg-monthly-temp-fahr\\\\Sonoma\\\\Sonoma-2000-temp.csv',\n",
       " 'data\\\\earthpy-downloads\\\\avg-monthly-temp-fahr\\\\Sonoma\\\\Sonoma-2001-temp.csv',\n",
       " 'data\\\\earthpy-downloads\\\\avg-monthly-temp-fahr\\\\Sonoma\\\\Sonoma-2002-temp.csv',\n",
       " 'data\\\\earthpy-downloads\\\\avg-monthly-temp-fahr\\\\Sonoma\\\\Sonoma-2003-temp.csv']"
      ]
     },
     "execution_count": 40,
     "metadata": {},
     "output_type": "execute_result"
    }
   ],
   "source": [
    "# Get incorrect range for 2002-2003\n",
    "glob(os.path.join(data_folder, \"*\", \"*[2001-2003]*\"))"
   ]
  },
  {
   "cell_type": "markdown",
   "metadata": {},
   "source": [
    "### ? Operator\n",
    "- Works similarly to *, but only for a single character\n",
    "- If one character in the file can be variable, and everything else stay the same\n",
    "  "
   ]
  },
  {
   "cell_type": "code",
   "execution_count": 41,
   "metadata": {},
   "outputs": [
    {
     "data": {
      "text/plain": [
       "['data\\\\earthpy-downloads\\\\avg-monthly-temp-fahr\\\\Sonoma\\\\Sonoma-2000-temp.csv',\n",
       " 'data\\\\earthpy-downloads\\\\avg-monthly-temp-fahr\\\\Sonoma\\\\Sonoma-2001-temp.csv',\n",
       " 'data\\\\earthpy-downloads\\\\avg-monthly-temp-fahr\\\\Sonoma\\\\Sonoma-2002-temp.csv',\n",
       " 'data\\\\earthpy-downloads\\\\avg-monthly-temp-fahr\\\\Sonoma\\\\Sonoma-2003-temp.csv']"
      ]
     },
     "execution_count": 41,
     "metadata": {},
     "output_type": "execute_result"
    }
   ],
   "source": [
    "# Use ? operator for last value in year\n",
    "glob(os.path.join(data_folder, \"Sonoma\", \"*200?-temp.csv\"))"
   ]
  },
  {
   "cell_type": "markdown",
   "metadata": {},
   "source": [
    "- **`?`** is not limited to one use. It's possible to replace more tha one character"
   ]
  },
  {
   "cell_type": "code",
   "execution_count": 43,
   "metadata": {},
   "outputs": [
    {
     "data": {
      "text/plain": [
       "['data\\\\earthpy-downloads\\\\avg-monthly-temp-fahr\\\\San-Diego\\\\San-Diego-1999-temp.csv',\n",
       " 'data\\\\earthpy-downloads\\\\avg-monthly-temp-fahr\\\\Sonoma\\\\Sonoma-1999-temp.csv']"
      ]
     },
     "execution_count": 43,
     "metadata": {},
     "output_type": "execute_result"
    }
   ],
   "source": [
    "glob(os.path.join(data_folder, \"*\", \"*19??-temp.csv\"))"
   ]
  },
  {
   "cell_type": "markdown",
   "metadata": {},
   "source": [
    "### Saving a glob Output to a Variable\n",
    "- **`glob`** can be saved to a variable name"
   ]
  },
  {
   "cell_type": "code",
   "execution_count": 45,
   "metadata": {},
   "outputs": [
    {
     "data": {
      "text/plain": [
       "['data\\\\earthpy-downloads\\\\avg-monthly-temp-fahr\\\\San-Diego\\\\San-Diego-1999-temp.csv',\n",
       " 'data\\\\earthpy-downloads\\\\avg-monthly-temp-fahr\\\\San-Diego\\\\San-Diego-2000-temp.csv',\n",
       " 'data\\\\earthpy-downloads\\\\avg-monthly-temp-fahr\\\\San-Diego\\\\San-Diego-2001-temp.csv',\n",
       " 'data\\\\earthpy-downloads\\\\avg-monthly-temp-fahr\\\\San-Diego\\\\San-Diego-2002-temp.csv',\n",
       " 'data\\\\earthpy-downloads\\\\avg-monthly-temp-fahr\\\\San-Diego\\\\San-Diego-2003-temp.csv']"
      ]
     },
     "execution_count": 45,
     "metadata": {},
     "output_type": "execute_result"
    }
   ],
   "source": [
    "# Save Glob in a variable name\n",
    "sd_data = glob(os.path.join(data_folder, \"San-Diego\", \"*\"))\n",
    "sd_data.sort()\n",
    "\n",
    "sd_data"
   ]
  },
  {
   "cell_type": "markdown",
   "metadata": {},
   "source": [
    "### **os Advanced Functionality**\n",
    "- `os` has a function **`os.path.normpath()`** that can be used to **clean up file paths**\n",
    "- It takes out any unecessary characters to make the path more easily read\n",
    "- Make sure the path is properly formatted before using other `os` functions"
   ]
  },
  {
   "cell_type": "code",
   "execution_count": 46,
   "metadata": {},
   "outputs": [
    {
     "data": {
      "text/plain": [
       "'home\\\\user\\\\example_dir'"
      ]
     },
     "execution_count": 46,
     "metadata": {},
     "output_type": "execute_result"
    }
   ],
   "source": [
    "# Example of normpath cleaning up paths\n",
    "example_path = \"home//user//example_dir\"\n",
    "os.path.normpath(example_path)"
   ]
  },
  {
   "cell_type": "markdown",
   "metadata": {},
   "source": [
    "- `os.path.commonpath()` take a list of file paths and find the lowest directory in common between them\n",
    "  \n"
   ]
  },
  {
   "cell_type": "code",
   "execution_count": 48,
   "metadata": {},
   "outputs": [
    {
     "data": {
      "text/plain": [
       "['data\\\\earthpy-downloads\\\\avg-monthly-temp-fahr\\\\San-Diego\\\\San-Diego-1999-temp.csv',\n",
       " 'data\\\\earthpy-downloads\\\\avg-monthly-temp-fahr\\\\San-Diego\\\\San-Diego-2000-temp.csv',\n",
       " 'data\\\\earthpy-downloads\\\\avg-monthly-temp-fahr\\\\San-Diego\\\\San-Diego-2001-temp.csv',\n",
       " 'data\\\\earthpy-downloads\\\\avg-monthly-temp-fahr\\\\San-Diego\\\\San-Diego-2002-temp.csv',\n",
       " 'data\\\\earthpy-downloads\\\\avg-monthly-temp-fahr\\\\San-Diego\\\\San-Diego-2003-temp.csv']"
      ]
     },
     "execution_count": 48,
     "metadata": {},
     "output_type": "execute_result"
    }
   ],
   "source": [
    "# Print the list of files\n",
    "sd_data"
   ]
  },
  {
   "cell_type": "code",
   "execution_count": 49,
   "metadata": {},
   "outputs": [
    {
     "data": {
      "text/plain": [
       "'data\\\\earthpy-downloads\\\\avg-monthly-temp-fahr\\\\San-Diego'"
      ]
     },
     "execution_count": 49,
     "metadata": {},
     "output_type": "execute_result"
    }
   ],
   "source": [
    "# Get the shared directory from a list of files\n",
    "os.path.commonpath(sd_data)"
   ]
  },
  {
   "cell_type": "markdown",
   "metadata": {},
   "source": [
    "- `os.path.basename()` finds the last section of a path and returns it. "
   ]
  },
  {
   "cell_type": "code",
   "execution_count": 50,
   "metadata": {},
   "outputs": [
    {
     "data": {
      "text/plain": [
       "'data\\\\earthpy-downloads\\\\avg-monthly-temp-fahr'"
      ]
     },
     "execution_count": 50,
     "metadata": {},
     "output_type": "execute_result"
    }
   ],
   "source": [
    "# Print normalized path\n",
    "os.path.normpath(data_folder)"
   ]
  },
  {
   "cell_type": "code",
   "execution_count": 51,
   "metadata": {},
   "outputs": [
    {
     "data": {
      "text/plain": [
       "'avg-monthly-temp-fahr'"
      ]
     },
     "execution_count": 51,
     "metadata": {},
     "output_type": "execute_result"
    }
   ],
   "source": [
    "# Get the last part of a file path with base name\n",
    "os.path.basename(data_folder)"
   ]
  },
  {
   "cell_type": "markdown",
   "metadata": {},
   "source": [
    "- `os.path.split()` split a path into two parts:\n",
    "1. the last part\n",
    "2. the rest "
   ]
  },
  {
   "cell_type": "code",
   "execution_count": 53,
   "metadata": {},
   "outputs": [
    {
     "data": {
      "text/plain": [
       "('data\\\\earthpy-downloads', 'avg-monthly-temp-fahr')"
      ]
     },
     "execution_count": 53,
     "metadata": {},
     "output_type": "execute_result"
    }
   ],
   "source": [
    "# Get the last part of a file path and the rest of the path\n",
    "os.path.split(os.path.normpath(data_folder))"
   ]
  },
  {
   "cell_type": "markdown",
   "metadata": {},
   "source": [
    "- Use indexing on the result to get each piece of the split part"
   ]
  },
  {
   "cell_type": "code",
   "execution_count": 60,
   "metadata": {},
   "outputs": [
    {
     "data": {
      "text/plain": [
       "'data\\\\earthpy-downloads'"
      ]
     },
     "execution_count": 60,
     "metadata": {},
     "output_type": "execute_result"
    }
   ],
   "source": [
    "os.path.split(os.path.normpath(data_folder))[0]"
   ]
  },
  {
   "cell_type": "code",
   "execution_count": 61,
   "metadata": {},
   "outputs": [
    {
     "data": {
      "text/plain": [
       "'avg-monthly-temp-fahr'"
      ]
     },
     "execution_count": 61,
     "metadata": {},
     "output_type": "execute_result"
    }
   ],
   "source": [
    "os.path.split(os.path.normpath(data_folder))[1]"
   ]
  },
  {
   "cell_type": "markdown",
   "metadata": {},
   "source": [
    "### String Manipulation"
   ]
  },
  {
   "cell_type": "code",
   "execution_count": 62,
   "metadata": {},
   "outputs": [
    {
     "data": {
      "text/plain": [
       "['data', 'earthpy-downloads', 'avg-monthly-temp-fahr']"
      ]
     },
     "execution_count": 62,
     "metadata": {},
     "output_type": "execute_result"
    }
   ],
   "source": [
    "# Separate a path into parts\n",
    "file_path_list = data_folder.split(os.sep)\n",
    "file_path_list"
   ]
  },
  {
   "cell_type": "code",
   "execution_count": 65,
   "metadata": {},
   "outputs": [
    {
     "data": {
      "text/plain": [
       "'earthpy-downloads'"
      ]
     },
     "execution_count": 65,
     "metadata": {},
     "output_type": "execute_result"
    }
   ],
   "source": [
    "file_path_list[1]"
   ]
  },
  {
   "cell_type": "code",
   "execution_count": 66,
   "metadata": {},
   "outputs": [
    {
     "data": {
      "text/plain": [
       "['data\\\\earthpy-downloads\\\\avg-monthly-temp-fahr\\\\San-Diego\\\\San-Diego-1999-temp.csv',\n",
       " 'data\\\\earthpy-downloads\\\\avg-monthly-temp-fahr\\\\San-Diego\\\\San-Diego-2000-temp.csv',\n",
       " 'data\\\\earthpy-downloads\\\\avg-monthly-temp-fahr\\\\San-Diego\\\\San-Diego-2001-temp.csv',\n",
       " 'data\\\\earthpy-downloads\\\\avg-monthly-temp-fahr\\\\San-Diego\\\\San-Diego-2002-temp.csv',\n",
       " 'data\\\\earthpy-downloads\\\\avg-monthly-temp-fahr\\\\San-Diego\\\\San-Diego-2003-temp.csv']"
      ]
     },
     "execution_count": 66,
     "metadata": {},
     "output_type": "execute_result"
    }
   ],
   "source": [
    "# Print list of files\n",
    "sd_data"
   ]
  },
  {
   "cell_type": "code",
   "execution_count": 69,
   "metadata": {},
   "outputs": [
    {
     "name": "stdout",
     "output_type": "stream",
     "text": [
      "San-Diego-1999-temp.csv\n"
     ]
    }
   ],
   "source": [
    "# Get the files name\n",
    "year_path = sd_data[0]\n",
    "file_name = os.path.basename(year_path)\n",
    "print(file_name)"
   ]
  },
  {
   "cell_type": "code",
   "execution_count": 71,
   "metadata": {},
   "outputs": [
    {
     "name": "stdout",
     "output_type": "stream",
     "text": [
      "1999\n"
     ]
    }
   ],
   "source": [
    "# Parse date from file name\n",
    "year = file_name[10:14]\n",
    "print(year)"
   ]
  }
 ],
 "metadata": {
  "kernelspec": {
   "display_name": "pangeo",
   "language": "python",
   "name": "python3"
  },
  "language_info": {
   "codemirror_mode": {
    "name": "ipython",
    "version": 3
   },
   "file_extension": ".py",
   "mimetype": "text/x-python",
   "name": "python",
   "nbconvert_exporter": "python",
   "pygments_lexer": "ipython3",
   "version": "3.12.5"
  }
 },
 "nbformat": 4,
 "nbformat_minor": 2
}
